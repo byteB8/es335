{
 "cells": [
  {
   "cell_type": "markdown",
   "id": "b09461eb",
   "metadata": {},
   "source": [
    "### Question 2\n",
    "\n",
    "a) Show the usage of your decision tree for the [automotive efficiency](https://archive.ics.uci.edu/ml/datasets/auto+mpg) problem. **[0.5 marks]**\n",
    "b) Compare the performance of your model with the decision tree module from scikit learn. **[0.5 marks]**"
   ]
  },
  {
   "cell_type": "code",
   "execution_count": 1,
   "id": "27f57ab0",
   "metadata": {},
   "outputs": [
    {
     "name": "stderr",
     "output_type": "stream",
     "text": [
      "/tmp/ipykernel_92365/133061960.py:13: FutureWarning: The 'delim_whitespace' keyword in pd.read_csv is deprecated and will be removed in a future version. Use ``sep='\\s+'`` instead\n",
      "  data = pd.read_csv(url, delim_whitespace=True, header=None,\n"
     ]
    },
    {
     "name": "stdout",
     "output_type": "stream",
     "text": [
      "RMSE using my implementation:  1.90029237516523\n",
      "MAE using my implementation:  1.8333333333333333\n"
     ]
    }
   ],
   "source": [
    "import pandas as pd\n",
    "import numpy as np\n",
    "import matplotlib.pyplot as plt\n",
    "from tree.base import DecisionTree\n",
    "from sklearn.model_selection import train_test_split\n",
    "from sklearn.tree import DecisionTreeRegressor\n",
    "from metrics import *\n",
    "\n",
    "np.random.seed(42)\n",
    "\n",
    "# Reading the data\n",
    "url = 'https://archive.ics.uci.edu/ml/machine-learning-databases/auto-mpg/auto-mpg.data'\n",
    "data = pd.read_csv(url, delim_whitespace=True, header=None,\n",
    "                   names=[\"mpg\", \"cylinders\", \"displacement\", \"horsepower\", \"weight\",\n",
    "                          \"acceleration\", \"model year\", \"origin\", \"car name\"])\n",
    "\n",
    "# Clean the above data by removing redundant columns and rows with junk values\n",
    "# Compare the performance of your model with the decision tree module from scikit learn\n",
    "\n",
    "\n",
    "data.drop(columns=[\"car name\"], inplace=True)\n",
    "\n",
    "data.replace('?', np.nan, inplace=True)\n",
    "\n",
    "data.dropna(inplace=True)\n",
    "\n",
    "data = data.iloc[:40]  # for testing\n",
    "\n",
    "X = data.iloc[:, :-1]\n",
    "y = data.iloc[:, -1]\n",
    "\n",
    "\n",
    "train_X, test_X, train_y, test_y = train_test_split(\n",
    "    X, y, test_size=0.45, random_state=42)\n",
    "\n",
    "# convert to pandas\n",
    "train_X = pd.DataFrame(train_X, columns=[\"mpg\", \"cylinders\", \"displacement\", \"horsepower\", \"weight\",\n",
    "                                         \"acceleration\", \"model year\", \"origin\"])\n",
    "test_X = pd.DataFrame(test_X, columns=[\"mpg\", \"cylinders\", \"displacement\", \"horsepower\", \"weight\",\n",
    "                                       \"acceleration\", \"model year\", \"origin\"])\n",
    "train_y = pd.Series(train_y, name=\"mpg\")\n",
    "\n",
    "\n",
    "tree = DecisionTree(criterion=\"information_gain\", max_depth=2)\n",
    "tree.fit(train_X, train_y)\n",
    "\n",
    "y_hat = tree.predict(test_X)\n",
    "\n",
    "print(\"RMSE using my implementation: \", rmse(y_hat, test_y))\n",
    "print(\"MAE using my implementation: \", mae(y_hat, test_y))"
   ]
  },
  {
   "cell_type": "code",
   "execution_count": 2,
   "id": "5eed32a6",
   "metadata": {},
   "outputs": [
    {
     "name": "stdout",
     "output_type": "stream",
     "text": [
      "###########################\n",
      "With scikit learn\n",
      "###########################\n"
     ]
    },
    {
     "name": "stderr",
     "output_type": "stream",
     "text": [
      "/tmp/ipykernel_92365/3076272730.py:9: FutureWarning: The 'delim_whitespace' keyword in pd.read_csv is deprecated and will be removed in a future version. Use ``sep='\\s+'`` instead\n",
      "  data = pd.read_csv(url, delim_whitespace=True, header=None,\n"
     ]
    },
    {
     "name": "stdout",
     "output_type": "stream",
     "text": [
      "RMSE using scikit learn:  0.23570226039551584\n",
      "MAE using scikit learn:  0.05555555555555555\n"
     ]
    }
   ],
   "source": [
    "# With scikit learn\n",
    "\n",
    "print(\"###########################\")\n",
    "print(\"With scikit learn\")\n",
    "print(\"###########################\")\n",
    "\n",
    "# Reading the data\n",
    "url = 'https://archive.ics.uci.edu/ml/machine-learning-databases/auto-mpg/auto-mpg.data'\n",
    "data = pd.read_csv(url, delim_whitespace=True, header=None,\n",
    "                   names=[\"mpg\", \"cylinders\", \"displacement\", \"horsepower\", \"weight\",\n",
    "                          \"acceleration\", \"model year\", \"origin\", \"car name\"])\n",
    "\n",
    "\n",
    "data.drop(columns=[\"car name\"], inplace=True)\n",
    "\n",
    "data.replace('?', np.nan, inplace=True)\n",
    "\n",
    "data.dropna(inplace=True)\n",
    "\n",
    "data = data.iloc[:40]  # for testing\n",
    "\n",
    "X = data.iloc[:, :-1]\n",
    "y = data.iloc[:, -1]\n",
    "\n",
    "train_X, test_X, train_y, test_y = train_test_split(\n",
    "    X, y, test_size=0.45, random_state=42)\n",
    "\n",
    "# train the model\n",
    "tree = DecisionTreeRegressor(max_depth=3)\n",
    "tree.fit(train_X, train_y)\n",
    "\n",
    "y_hat = tree.predict(test_X)\n",
    "\n",
    "print(\"RMSE using scikit learn: \", rmse(y_hat, test_y))\n",
    "print(\"MAE using scikit learn: \", mae(y_hat, test_y))\n"
   ]
  },
  {
   "cell_type": "code",
   "execution_count": null,
   "id": "71231841",
   "metadata": {},
   "outputs": [],
   "source": []
  }
 ],
 "metadata": {
  "kernelspec": {
   "display_name": "es335Env",
   "language": "python",
   "name": "python3"
  },
  "language_info": {
   "codemirror_mode": {
    "name": "ipython",
    "version": 3
   },
   "file_extension": ".py",
   "mimetype": "text/x-python",
   "name": "python",
   "nbconvert_exporter": "python",
   "pygments_lexer": "ipython3",
   "version": "3.12.3"
  }
 },
 "nbformat": 4,
 "nbformat_minor": 5
}
