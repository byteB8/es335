{
 "cells": [
  {
   "cell_type": "code",
   "execution_count": null,
   "id": "2068813d",
   "metadata": {},
   "outputs": [],
   "source": [
    "# modules used\n",
    "import random\n",
    "import time\n",
    "import numpy as np\n",
    "import matplotlib.pyplot as plt\n",
    "import math\n",
    "import jax\n",
    "import jax.numpy as jnp\n",
    "import sympy as sp"
   ]
  },
  {
   "cell_type": "code",
   "execution_count": 42,
   "id": "f5b7a34e",
   "metadata": {},
   "outputs": [
    {
     "name": "stdout",
     "output_type": "stream",
     "text": [
      "5 3\n"
     ]
    }
   ],
   "source": [
    "a = 3\n",
    "b = 5 \n",
    "# swap \n",
    "a, b = b, a\n",
    "print(a, b)"
   ]
  },
  {
   "cell_type": "markdown",
   "id": "9bc4a4c6",
   "metadata": {},
   "source": [
    "### Questions"
   ]
  },
  {
   "cell_type": "markdown",
   "id": "d0db44b4",
   "metadata": {},
   "source": [
    "Q1. How many multiplications and additions do you need to perform a matrix multiplication between a (n, k) and (k, m) matrix? Explain."
   ]
  },
  {
   "cell_type": "markdown",
   "id": "2be9d12d",
   "metadata": {},
   "source": [
    "#### Ans/explanation:\n",
    "\n",
    "Given two matrices $A$ and $B$:\n",
    "\n",
    "$$A = \\begin{pmatrix} a_{11} & a_{12} & \\cdots & a_{1k} \\\\ a_{21} & a_{22} & \\cdots & a_{2k} \\\\ \\vdots & \\vdots & \\ddots & \\vdots \\\\ a_{n1} & a_{n2} & \\cdots & a_{nk} \\end{pmatrix}, \\quad B = \\begin{pmatrix} b_{11} & b_{12} & \\cdots & b_{1m} \\\\ b_{21} & b_{22} & \\cdots & b_{2m} \\\\ \\vdots & \\vdots & \\ddots & \\vdots \\\\ b_{k1} & b_{k2} & \\cdots & b_{km} \\end{pmatrix}$$\n",
    "\n",
    "Their product $C = AB$ is an $n \\times m$ matrix:\n",
    "\n",
    "$$C = \\begin{pmatrix} c_{11} & c_{12} & \\cdots & c_{1m} \\\\ c_{21} & c_{22} & \\cdots & c_{2m} \\\\ \\vdots & \\vdots & \\ddots & \\vdots \\\\ c_{n1} & c_{n2} & \\cdots & c_{nm} \\end{pmatrix}$$\n",
    "\n",
    "Where each element $c_{ij}$ is the dot product of the $i$-th row of $A$ and the $j$-th column of $B$.\n",
    "\n",
    "For example, the element $c_{22}$ would be:\n",
    "\n",
    "$$c_{22} = a_{21}b_{12} + a_{22}b_{22} + \\cdots + a_{2k}b_{k2}$$\n",
    "\n",
    "$$ \\text{Total multiplications count} = \\text{multiplications count in } c_{ij} * \\text{No of elements in matrix C}$$\n",
    "$$ \\text{Total multiplications count} = k * n * m $$\n",
    "\n",
    "Similarly, the total number of additions is:\n",
    "$$ \\text{Total additions count} = (k - 1) * n * m$$"
   ]
  },
  {
   "cell_type": "markdown",
   "id": "24590441",
   "metadata": {},
   "source": [
    "Q2. Write Python code to multiply the above two matrices. Solve using list of lists and then use numpy. Compare the timing of both solutions. Which one is faster? Why?"
   ]
  },
  {
   "cell_type": "code",
   "execution_count": 34,
   "id": "18d6d0cd",
   "metadata": {},
   "outputs": [],
   "source": [
    "def generate_matrix_list(rows, cols, lb=1, ub=100):\n",
    "    return [[random.randint(lb, ub) for _ in range(cols)] for _ in range(rows)]"
   ]
  },
  {
   "cell_type": "code",
   "execution_count": 35,
   "id": "f7e9326a",
   "metadata": {},
   "outputs": [],
   "source": [
    "def list_matrix_multiply(A, B):\n",
    "    n = len(A)\n",
    "    k = len(B)\n",
    "    m = len(B[0])\n",
    "    C = [[0] * m for _ in range(n)]\n",
    "    for i in range(n):\n",
    "        for j in range(m):\n",
    "            for l in range(k):\n",
    "                C[i][j] += A[i][l] * B[l][j]\n",
    "    return C"
   ]
  },
  {
   "cell_type": "code",
   "execution_count": 36,
   "id": "df8d53bb",
   "metadata": {},
   "outputs": [],
   "source": [
    "def benchmark(dim):\n",
    "    A = generate_matrix_list(dim, dim)\n",
    "    B = generate_matrix_list(dim, dim)\n",
    "\n",
    "    # List multiplication\n",
    "    start = time.time()\n",
    "    list_matrix_multiply(A, B)\n",
    "    list_time = (time.time() - start) * 1000  # in milliseconds\n",
    "\n",
    "    # NumPy multiplication\n",
    "    np_A = np.array(A)\n",
    "    np_B = np.array(B)\n",
    "    start = time.time()\n",
    "    np.dot(np_A, np_B)\n",
    "    numpy_time = (time.time() - start) * 1000  # in milliseconds\n",
    "\n",
    "    return list_time, numpy_time"
   ]
  },
  {
   "cell_type": "code",
   "execution_count": 37,
   "id": "adffd13f",
   "metadata": {},
   "outputs": [],
   "source": [
    "def run_benchmarks(start=10, end=200, step=10):\n",
    "    dims = list(range(start, end + 1, step))\n",
    "    list_times = []\n",
    "    numpy_times = []\n",
    "\n",
    "    for dim in dims:\n",
    "        # print(f\"Benchmarking for dimension: {dim}x{dim}\")\n",
    "        list_time, numpy_time = benchmark(dim)\n",
    "        list_times.append(list_time)\n",
    "        numpy_times.append(numpy_time)\n",
    "\n",
    "    return dims, list_times, numpy_times"
   ]
  },
  {
   "cell_type": "code",
   "execution_count": 38,
   "id": "21dc56e3",
   "metadata": {},
   "outputs": [],
   "source": [
    "def plot_results(dims, list_times, numpy_times):\n",
    "    plt.figure(figsize=(10, 6))\n",
    "    plt.plot(dims, list_times, label=\"List of Lists\", marker='o')\n",
    "    plt.plot(dims, numpy_times, label=\"NumPy\", marker='s')\n",
    "    plt.xlabel(\"Matrix Dimension (n x n)\")\n",
    "    plt.ylabel(\"Time Taken (ms)\")\n",
    "    plt.title(\"Matrix Multiplication Time: Lists vs NumPy\")\n",
    "    plt.xticks(ticks=range(dims[0], dims[-1] + 1, 20))\n",
    "    plt.grid(True)\n",
    "    plt.legend()\n",
    "    plt.tight_layout()\n",
    "    plt.show()"
   ]
  },
  {
   "cell_type": "code",
   "execution_count": 39,
   "id": "768aa324",
   "metadata": {},
   "outputs": [
    {
     "data": {
      "image/png": "[encoded data removed]",
      "text/plain": [
       "<Figure size 1000x600 with 1 Axes>"
      ]
     },
     "metadata": {},
     "output_type": "display_data"
    }
   ],
   "source": [
    "dims, list_times, numpy_times = run_benchmarks()\n",
    "plot_results(dims, list_times, numpy_times)\n"
   ]
  },
  {
   "cell_type": "markdown",
   "id": "ec5bd1cf",
   "metadata": {},
   "source": [
    "#### Reason:\n",
    "Python list and nested for loop approach does O(n*m*k) operations, and is of interpreted nature (not compiled), makes it slower for large matrices compared to optimized libraries like NumPy which leverage low-level optimizations (from C based libraries) and is compiled (faster) and is more efficient for large matrices."
   ]
  },
  {
   "cell_type": "markdown",
   "id": "e176fd70",
   "metadata": {},
   "source": [
    "Q3. Finding the highest element in a list requires one pass of the array. Finding the second highest element requires 2 passes of the array. Using this method, what is the time complexity of finding the median of the array? Can you suggest a better method? Can you implement both these methods in Python and compare against numpy.median routine in terms of time?"
   ]
  },
  {
   "cell_type": "code",
   "execution_count": 40,
   "id": "0b8f3eac",
   "metadata": {},
   "outputs": [
    {
     "name": "stdout",
     "output_type": "stream",
     "text": [
      "list:\n",
      "[100, 57, 15, 1, 12, 75, 5, 86, 89, 11]\n",
      "\n",
      "median:\n",
      "36.0\n",
      "Time taken: 0.03504753112792969 milliseconds\n"
     ]
    }
   ],
   "source": [
    "# approach 1: \n",
    "\n",
    "def make_pass(my_list):\n",
    "    for pass_index in range(0, len(my_list)//2+1):\n",
    "      curr_hightest_index = pass_index\n",
    "      for i in range(pass_index+1, len(my_list)):\n",
    "        if my_list[curr_hightest_index] < my_list[i]:\n",
    "          curr_hightest_index = i\n",
    "      my_list[pass_index], my_list[curr_hightest_index] = my_list[curr_hightest_index], my_list[pass_index]\n",
    "    return my_list\n",
    "\n",
    "def median_by_pass(my_list):\n",
    "  make_pass(my_list)\n",
    "  my_list.reverse()\n",
    "  n = len(my_list)\n",
    "  if n%2:\n",
    "    return my_list[n//2]\n",
    "  else:\n",
    "    return (my_list[n//2-1] + my_list[n//2]) / 2\n",
    "  \n",
    "  \n",
    "my_list = [100, 57, 15, 1, 12, 75, 5, 86, 89, 11]\n",
    "print(f\"list:\\n{my_list}\\n\")\n",
    "# profiling\n",
    "start_time = time.time()\n",
    "median = median_by_pass(my_list)\n",
    "end_time = time.time()\n",
    "print(f\"median:\\n{median}\")\n",
    "print(f\"Time taken: {(end_time - start_time)*1000} milliseconds\")"
   ]
  },
  {
   "cell_type": "code",
   "execution_count": 35,
   "id": "ae7de054",
   "metadata": {},
   "outputs": [],
   "source": [
    "# approach 2: using randomized quick select\n",
    "a, b = [-1], [-1] # b stores element at n/2 index, a stores for (n/2 -1)\n",
    "def find_median(my_list):\n",
    "  global a, b\n",
    "  a, b = [-1], [-1] # Reset values for each call\n",
    "  n = len(my_list)\n",
    "  if n == 0:\n",
    "    return None\n",
    "  if n == 1:\n",
    "    return my_list[0]\n",
    "  if n == 2:\n",
    "    return (my_list[0] + my_list[1])/2\n",
    "  \n",
    "  quick_select(my_list, 0, n-1, n//2, a, b)\n",
    "\n",
    "  if n%2:\n",
    "    return a[0]\n",
    "  else:\n",
    "    return (a[0]+b[0])/2\n",
    "\n",
    "\n",
    "def quick_select(my_list, left, right, k, a, b):\n",
    "  if left <= right:\n",
    "    partition_index = partition(my_list, left, right)\n",
    "    \n",
    "    if partition_index == k:\n",
    "      b[0] = my_list[partition_index]\n",
    "      \n",
    "      if a[0] != -1:\n",
    "        return\n",
    "    elif partition_index == k-1:\n",
    "      a[0] = my_list[partition_index]\n",
    "      if b[0] != -1:\n",
    "        return\n",
    "    \n",
    "    if partition_index >= k:\n",
    "      quick_select(my_list, left, partition_index-1, k, a, b)\n",
    "    else:\n",
    "      quick_select(my_list, partition_index+1, right, k, a, b)\n",
    "  else:\n",
    "    return\n",
    "\n",
    "\n",
    "def partition(my_list, left, right):\n",
    "  length = right - left + 1\n",
    "  pivot_index = random.randint(0, length-1)\n",
    "  my_list[left+pivot_index], my_list[right] = my_list[right], my_list[left+pivot_index]\n",
    "  pivot_value = my_list[right]\n",
    "  i = left\n",
    "  for j in range(left, right):\n",
    "    if my_list[j] < pivot_value:\n",
    "      my_list[i], my_list[j] = my_list[j], my_list[i]\n",
    "      i += 1 \n",
    "  my_list[i], my_list[right] = my_list[right], my_list[i]\n",
    "  return i"
   ]
  },
  {
   "cell_type": "code",
   "execution_count": 36,
   "id": "ca544e66",
   "metadata": {},
   "outputs": [
    {
     "name": "stdout",
     "output_type": "stream",
     "text": [
      "list:\n",
      "[100, 57, 15, 1, 12, 75, 5, 86, 89, 11]\n",
      "\n",
      "median:\n",
      "36.0\n",
      "Time taken: 0.06508827209472656 milliseconds\n"
     ]
    }
   ],
   "source": [
    "my_list = [100, 57, 15, 1, 12, 75, 5, 86, 89, 11]\n",
    "print(f\"list:\\n{my_list}\\n\")\n",
    "# profiling \n",
    "start_time = time.time()  \n",
    "median = find_median(my_list=my_list)\n",
    "end_time = time.time()\n",
    "print(f\"median:\\n{median}\")\n",
    "print(f\"Time taken: {(end_time - start_time)*1000} milliseconds\")"
   ]
  },
  {
   "cell_type": "code",
   "execution_count": 41,
   "id": "50256ad8",
   "metadata": {},
   "outputs": [
    {
     "name": "stdout",
     "output_type": "stream",
     "text": [
      "list:\n",
      "[100, 57, 15, 1, 12, 75, 5, 86, 89, 11]\n",
      "\n",
      "median:\n",
      "36.0\n",
      "Time taken: 1.531839370727539 milliseconds\n"
     ]
    }
   ],
   "source": [
    "# approach 3: using numpy\n",
    "my_list = [100, 57, 15, 1, 12, 75, 5, 86, 89, 11]\n",
    "print(f\"list:\\n{my_list}\\n\")\n",
    "\n",
    "# profiling\n",
    "start_time = time.time()\n",
    "median = np.median(my_list)\n",
    "end_time = time.time()\n",
    "print(f\"median:\\n{median}\")\n",
    "print(f\"Time taken: {(end_time - start_time)*1000} milliseconds\")"
   ]
  },
  {
   "cell_type": "markdown",
   "id": "c372d4b1",
   "metadata": {},
   "source": [
    "All above approaches are tested for very small size of list, which does not make a better comparison directly looking at time taken (depending on the machine). But the time growth rate in terms of input size $n$ of all above approaches are discussed below:\n",
    "\n",
    "Approach 1 (using pass) takes n/2 passes, and each pass takes n-i comparisons, so total time complexity is $O(n^2)$.\n",
    "\n",
    "Approach 2 (using randomized quick select, similar to quick sort) takes $O(n)$ time in average case, and $O(n^2)$ in worst case (whose probability is very low).\n",
    "\n",
    "Approach 3 (using numpy) takes O(n) average time, since numpy also uses quick select internally, but highly optimized with partial sort (a variant of quick select, known as [introselect](https://stackoverflow.com/questions/50899486/why-does-numpy-median-scale-so-well) with C implementation) and it's worst case is $O(nlogn)$."
   ]
  },
  {
   "cell_type": "markdown",
   "id": "d7a01270",
   "metadata": {},
   "source": [
    "Q4. What is the gradient of the following function with respect to x and y?\n",
    "$$f(x,y) = x^2y + y^3sin(x) $$"
   ]
  },
  {
   "cell_type": "markdown",
   "id": "c8c26acb",
   "metadata": {},
   "source": [
    "$$\\frac{\\partial f}{\\partial x} = \\frac{\\partial}{\\partial x}(x^2 y) + \\frac{\\partial}{\\partial x}(y^3 \\sin(x)) = 2x y + y^3 \\cos(x)$$"
   ]
  },
  {
   "cell_type": "markdown",
   "id": "30bb4f9d",
   "metadata": {},
   "source": [
    "$$\\frac{\\partial f}{\\partial y} = \\frac{\\partial}{\\partial y}(x^2 y) + \\frac{\\partial}{\\partial y}(y^3 \\sin(x)) = x^2 + 3y^2 \\sin(x) $$"
   ]
  },
  {
   "cell_type": "markdown",
   "id": "61463357",
   "metadata": {},
   "source": [
    "Q5. Use `JAX` to confirm the gradient evaluated by your method matches the analytical solution corresponding to a few random values of x and y"
   ]
  },
  {
   "cell_type": "markdown",
   "id": "9415344f",
   "metadata": {},
   "source": [
    "Since analytical gradient is:\n",
    "\n",
    "$$\\nabla f(x, y) = \\left[ 2xy + y^3 \\cos(x), \\; x^2 + 3y^2 \\sin(x) \\right] $$"
   ]
  },
  {
   "cell_type": "code",
   "execution_count": null,
   "id": "45cd97e1",
   "metadata": {},
   "outputs": [
    {
     "name": "stdout",
     "output_type": "stream",
     "text": [
      "\n",
      "(x, y) = (1.0, 2.0)\n",
      "JAX grad      : [ 8.322418  11.0976515]\n",
      "Manual grad   : [ 8.322418  11.0976515]\n",
      "Difference    : [0. 0.]\n",
      "\n",
      "(x, y) = (0.5, -1.0)\n",
      "JAX grad      : [-1.8775826  1.6882766]\n",
      "Manual grad   : [-1.8775826  1.6882766]\n",
      "Difference    : [0. 0.]\n",
      "\n",
      "(x, y) = (2.5, 0.3)\n",
      "JAX grad      : [1.4783691 6.4115877]\n",
      "Manual grad   : [1.4783691 6.4115877]\n",
      "Difference    : [0. 0.]\n",
      "\n",
      "(x, y) = (-1.2, 1.5)\n",
      "JAX grad      : [-2.3770428 -4.8512635]\n",
      "Manual grad   : [-2.3770428 -4.8512635]\n",
      "Difference    : [0. 0.]\n"
     ]
    }
   ],
   "source": [
    "def f(vec):\n",
    "    x, y = vec\n",
    "    return x**2 * y + y**3 * jnp.sin(x)\n",
    "\n",
    "# Get gradient function\n",
    "grad_f = jax.grad(f)\n",
    "\n",
    "# Analytical gradient\n",
    "def analytical_grad(x, y):\n",
    "    df_dx = 2*x*y + y**3 * jnp.cos(x)\n",
    "    df_dy = x**2 + 3*y**2 * jnp.sin(x)\n",
    "    return jnp.array([df_dx, df_dy])\n",
    "\n",
    "# few random points (x,y)\n",
    "points = [\n",
    "    (1.0, 2.0),\n",
    "    (0.5, -1.0),\n",
    "    (2.5, 0.3),\n",
    "    (-1.2, 1.5)\n",
    "]\n",
    "\n",
    "for x, y in points:\n",
    "    auto = grad_f(jnp.array([x, y]))\n",
    "    manual = analytical_grad(x, y)\n",
    "    print(f\"\\n(x, y) = ({x}, {y})\")\n",
    "    print(f\"JAX grad      : {auto}\")\n",
    "    print(f\"Manual grad   : {manual}\")\n",
    "    print(f\"Difference    : {jnp.abs(auto - manual)}\")"
   ]
  },
  {
   "cell_type": "markdown",
   "id": "ddb660c4",
   "metadata": {},
   "source": [
    "Gradient difference for all points is zero, incdicating jax based grad is correct."
   ]
  },
  {
   "cell_type": "markdown",
   "id": "5a840603",
   "metadata": {},
   "source": [
    "Q6. Use `sympy` to confirm that you obtain the same gradient analytically."
   ]
  },
  {
   "cell_type": "markdown",
   "id": "2c0c1a5e",
   "metadata": {},
   "source": [
    "symbollically computing gradient of:\n",
    "\n",
    "$$\\nabla f(x, y) = \\left[ \\frac{\\partial f}{\\partial x}, \\frac{\\partial f}{\\partial y} \\right]$$\n",
    "\n",
    "As, \n",
    "\n",
    "$$\\nabla f(x, y) = \\left[ 2xy + y^3 \\cos(x), \\; x^2 + 3y^2 \\sin(x) \\right] $$"
   ]
  },
  {
   "cell_type": "code",
   "execution_count": 46,
   "id": "159ee9df",
   "metadata": {},
   "outputs": [
    {
     "name": "stdout",
     "output_type": "stream",
     "text": [
      "∂f/∂x = 2*x*y + y**3*cos(x)\n",
      "∂f/∂y = x**2 + 3*y**2*sin(x)\n"
     ]
    }
   ],
   "source": [
    "# Declare symbolic variables\n",
    "x, y = sp.symbols('x y')\n",
    "\n",
    "f = x**2 * y + y**3 * sp.sin(x)\n",
    "\n",
    "# Compute partial derivatives\n",
    "df_dx = sp.diff(f, x)\n",
    "df_dy = sp.diff(f, y)\n",
    "\n",
    "print(\"∂f/∂x =\", df_dx)\n",
    "print(\"∂f/∂y =\", df_dy)"
   ]
  },
  {
   "cell_type": "markdown",
   "id": "dc24583f",
   "metadata": {},
   "source": [
    "Results matches."
   ]
  },
  {
   "cell_type": "markdown",
   "id": "96aa3a42",
   "metadata": {},
   "source": [
    "Q7. Create a Python nested dictionary to represent hierarchical information. We want to store record of students and their marks. Something like:\n",
    "\n",
    "1. 2022  \n",
    "   1. Branch 1  \n",
    "      1. Roll Number: 1, Name: N, Marks:  \n",
    "         1. Maths: 100  \n",
    "         2. English: 70  \n",
    "      2. Roll Number: 2, Name: M, Marks:  \n",
    "         1. Maths: 90  \n",
    "         2. English: 80  \n",
    "   2. Branch 2  \n",
    "      1. Roll Number: 3, Name: A, Marks:  \n",
    "         1. Maths: 95  \n",
    "         2. English: 85  \n",
    "\n",
    "2. 2023  \n",
    "   1. Branch 1  \n",
    "   2. Branch 2  \n",
    "\n",
    "3. 2024  \n",
    "   1. Branch 1  \n",
    "   2. Branch 2  \n",
    "\n",
    "4. 2025  \n",
    "   1. Branch 1  \n",
    "   2. Branch 2  \n"
   ]
  },
  {
   "cell_type": "code",
   "execution_count": null,
   "id": "175c67f8",
   "metadata": {},
   "outputs": [],
   "source": [
    "data = {\n",
    "    \"2022\": {\n",
    "        \"Branch 1\": [\n",
    "            {\n",
    "                \"Roll Number\": 1,\n",
    "                \"Name\": \"N\",\n",
    "                \"Marks\": {\n",
    "                    \"Maths\": 100,\n",
    "                    \"English\": 70\n",
    "                }\n",
    "            },\n",
    "            {\n",
    "                \"Roll Number\": 2,\n",
    "                \"Name\": \"M\",\n",
    "                \"Marks\": {\n",
    "                    \"Maths\": 90,\n",
    "                    \"English\": 80\n",
    "                }\n",
    "            }\n",
    "        ],\n",
    "        \"Branch 2\":\n",
    "            {\n",
    "            }\n",
    "        \n",
    "    },\n",
    "    \"2023\": {\n",
    "        \"Branch 1\": {},\n",
    "        \"Branch 2\": {}\n",
    "    },\n",
    "    \"2024\": {\n",
    "        \"Branch 1\": {},\n",
    "        \"Branch 2\": {}\n",
    "    },\n",
    "    \"2025\": {\n",
    "        \"Branch 1\": {},\n",
    "        \"Branch 2\": {}\n",
    "    }\n",
    "}\n"
   ]
  },
  {
   "cell_type": "markdown",
   "id": "84fd3705",
   "metadata": {},
   "source": [
    "Q8. Store the same information using Python classes. We have an overall database which is a list of year objects. Each year contains a list of branches. Each branch contains a list of students. Each student has some properties like name, roll number and has marks in some subjects."
   ]
  },
  {
   "cell_type": "code",
   "execution_count": 49,
   "id": "c2186ec9",
   "metadata": {},
   "outputs": [],
   "source": [
    "class Student:\n",
    "    def __init__(self, roll_number, name, marks):\n",
    "        self.roll_number = roll_number\n",
    "        self.name = name\n",
    "        self.marks = marks \n",
    "\n",
    "    def __repr__(self):\n",
    "        return f\"Student(roll={self.roll_number}, name='{self.name}', marks={self.marks})\"\n",
    "\n",
    "\n",
    "class Branch:\n",
    "    def __init__(self, name):\n",
    "        self.name = name\n",
    "        self.students = [] \n",
    "\n",
    "    def add_student(self, student):\n",
    "        self.students.append(student)\n",
    "\n",
    "    def __repr__(self):\n",
    "        return f\"Branch(name='{self.name}', students={self.students})\"\n",
    "\n",
    "\n",
    "class Year:\n",
    "    def __init__(self, year):\n",
    "        self.year = year\n",
    "        self.branches = [] \n",
    "\n",
    "    def add_branch(self, branch):\n",
    "        self.branches.append(branch)\n",
    "\n",
    "    def __repr__(self):\n",
    "        return f\"Year(year={self.year}, branches={self.branches})\"\n",
    "\n",
    "\n",
    "\n",
    "database = []\n",
    "\n",
    "year_2022 = Year(2022)\n",
    "\n",
    "branch1_2022 = Branch(\"Branch 1\")\n",
    "branch1_2022.add_student(Student(1, \"N\", {\"Maths\": 100, \"English\": 70}))\n",
    "branch1_2022.add_student(Student(2, \"M\", {\"Maths\": 90, \"English\": 80}))\n",
    "\n",
    "branch2_2022 = Branch(\"Branch 2\")\n",
    "branch2_2022.add_student(Student(3, \"A\", {\"Maths\": 95, \"English\": 85}))\n",
    "\n",
    "year_2022.add_branch(branch1_2022)\n",
    "year_2022.add_branch(branch2_2022)\n",
    "\n",
    "database.append(year_2022)\n",
    "\n",
    "\n",
    "for y in [2023, 2024, 2025]:\n",
    "    year = Year(y)\n",
    "    year.add_branch(Branch(\"Branch 1\"))\n",
    "    year.add_branch(Branch(\"Branch 2\"))\n",
    "    database.append(year)\n",
    "\n"
   ]
  },
  {
   "cell_type": "markdown",
   "id": "82f5d733",
   "metadata": {},
   "source": []
  },
  {
   "cell_type": "markdown",
   "id": "bdbf043f",
   "metadata": {},
   "source": []
  },
  {
   "cell_type": "markdown",
   "id": "f3c4bfca",
   "metadata": {},
   "source": []
  },
  {
   "cell_type": "markdown",
   "id": "0e6558fb",
   "metadata": {},
   "source": []
  },
  {
   "cell_type": "markdown",
   "id": "ac9d7453",
   "metadata": {},
   "source": []
  },
  {
   "cell_type": "code",
   "execution_count": null,
   "id": "bb500ef2",
   "metadata": {},
   "outputs": [],
   "source": []
  }
 ],
 "metadata": {
  "kernelspec": {
   "display_name": "es335Env",
   "language": "python",
   "name": "python3"
  },
  "language_info": {
   "codemirror_mode": {
    "name": "ipython",
    "version": 3
   },
   "file_extension": ".py",
   "mimetype": "text/x-python",
   "name": "python",
   "nbconvert_exporter": "python",
   "pygments_lexer": "ipython3",
   "version": "3.10.12"
  }
 },
 "nbformat": 4,
 "nbformat_minor": 5
}
