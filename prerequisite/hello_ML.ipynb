{
 "cells": [
  {
   "cell_type": "markdown",
   "id": "9bc4a4c6",
   "metadata": {},
   "source": [
    "### Questions"
   ]
  },
  {
   "cell_type": "markdown",
   "id": "d0db44b4",
   "metadata": {},
   "source": [
    "Q1. How many multiplications and additions do you need to perform a matrix multiplication between a (n, k) and (k, m) matrix? Explain."
   ]
  },
  {
   "cell_type": "markdown",
   "id": "2be9d12d",
   "metadata": {},
   "source": [
    "#### Ans/explanation:\n",
    "\n",
    "Given two matrices $A$ and $B$:\n",
    "\n",
    "$$A = \\begin{pmatrix} a_{11} & a_{12} & \\cdots & a_{1k} \\\\ a_{21} & a_{22} & \\cdots & a_{2k} \\\\ \\vdots & \\vdots & \\ddots & \\vdots \\\\ a_{n1} & a_{n2} & \\cdots & a_{nk} \\end{pmatrix}, \\quad B = \\begin{pmatrix} b_{11} & b_{12} & \\cdots & b_{1m} \\\\ b_{21} & b_{22} & \\cdots & b_{2m} \\\\ \\vdots & \\vdots & \\ddots & \\vdots \\\\ b_{k1} & b_{k2} & \\cdots & b_{km} \\end{pmatrix}$$\n",
    "\n",
    "Their product $C = AB$ is an $n \\times m$ matrix:\n",
    "\n",
    "$$C = \\begin{pmatrix} c_{11} & c_{12} & \\cdots & c_{1m} \\\\ c_{21} & c_{22} & \\cdots & c_{2m} \\\\ \\vdots & \\vdots & \\ddots & \\vdots \\\\ c_{n1} & c_{n2} & \\cdots & c_{nm} \\end{pmatrix}$$\n",
    "\n",
    "Where each element $c_{ij}$ is the dot product of the $i$-th row of $A$ and the $j$-th column of $B$.\n",
    "\n",
    "For example, the element $c_{22}$ would be:\n",
    "\n",
    "$$c_{22} = a_{21}b_{12} + a_{22}b_{22} + \\cdots + a_{2k}b_{k2}$$\n",
    "\n",
    "$$ \\text{Total multiplications count} = \\text{multiplications count in } c_{ij} * \\text{No of elements in matrix C}$$\n",
    "$$ \\text{Total multiplications count} = k * n * m $$"
   ]
  },
  {
   "cell_type": "markdown",
   "id": "24590441",
   "metadata": {},
   "source": []
  }
 ],
 "metadata": {
  "kernelspec": {
   "display_name": "es335Env",
   "language": "python",
   "name": "python3"
  },
  "language_info": {
   "codemirror_mode": {
    "name": "ipython",
    "version": 3
   },
   "file_extension": ".py",
   "mimetype": "text/x-python",
   "name": "python",
   "nbconvert_exporter": "python",
   "pygments_lexer": "ipython3",
   "version": "3.10.12"
  }
 },
 "nbformat": 4,
 "nbformat_minor": 5
}
